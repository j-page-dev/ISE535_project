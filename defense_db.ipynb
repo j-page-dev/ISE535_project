{
  "nbformat": 4,
  "nbformat_minor": 0,
  "metadata": {
    "colab": {
      "name": "defense_db.ipynb",
      "provenance": []
    },
    "kernelspec": {
      "name": "python3",
      "display_name": "Python 3"
    },
    "language_info": {
      "name": "python"
    }
  },
  "cells": [
    {
      "cell_type": "markdown",
      "metadata": {
        "id": "kBNTISVSWl_M"
      },
      "source": [
        "## Generate Defense CSV File"
      ]
    },
    {
      "cell_type": "code",
      "metadata": {
        "id": "yfvomFJZVG3X"
      },
      "source": [
        "'''\n",
        "This script downloads the defensive statistics and stores them in a defense_db.csv file\n",
        "'''\n",
        "# import packages\n",
        "import pandas as pd\n",
        "\n",
        "# define the defense team abbreviations, team names and the season for which data to download\n",
        "team_name =['ram', 'rav', 'pit', 'was', 'nor', 'mia', 'nwe', 'tam', 'nyg', 'clt', 'kan', 'crd', 'gnb', 'chi', 'sea', 'buf', 'sfo', 'car', 'atl', 'phi', 'cle', 'cin', 'sdg', 'oti', 'den', 'nyj', 'htx', 'dal', 'min', 'rai', 'jax', 'det'    ]\n",
        "d_teams = [['Rams'], ['Ravens'], ['Steelers'], ['Redskins'], ['Saints'], ['Dolphins'], ['Patriots'], ['Bucs'], ['Giants'], ['Colts'], ['Chiefs'], ['Cardinals'], ['Packers'], ['Bears'], ['Seahawks'], ['Bills'], ['Niners'], ['Panthers'], ['Falcons'], ['Eagles'], ['Browns'], ['Bengals'], ['Chargers'], ['Titans'], ['Broncos'], ['Jets'], ['Texans'], ['Cowboys'], ['Vikings'], ['Raiders'], ['Jaguars'], ['Lions'] ]\n",
        "seasons = ['2020']\n",
        "#seasons = ['2020','2019', '2018', '2017', '2016', '2015', '2014', '2013', '2012', '2011'] # to be used in future iterations (this is very slow to download for more than one season at a time)\n",
        "\n",
        "# create an empy defensive dataframe to store values from webscraping below\n",
        "defense = pd.DataFrame(columns = ['d','date', 'opp', 'first_downs', 'TotYd', 'PassY', 'RushY', 'TO'])\n",
        "\n",
        "# for each team in each season, download stats from pro-football-reference page\n",
        "for i in seasons:\n",
        "  k=0\n",
        "  for j in team_name:\n",
        "    temp = pd.DataFrame(columns = ['defense','day', 'date', 'kickoff', 'location', 'opp', 'first_downs', 'TotYd', 'PassY', 'RushY', 'TO'])\n",
        "    url = 'https://www.pro-football-reference.com/teams/' + j + '/' + i + '.htm#games'\n",
        "    data = pd.read_html(url)[1]\n",
        "    team = d_teams[k] * len(data) \n",
        "    temp.defense = team\n",
        "    temp.day = data.iloc[:,1]\n",
        "    temp.date = data.iloc[:,2] + ' ' + i\n",
        "    temp.kickoff = data.iloc[:,3]\n",
        "    temp.location = data.iloc[:,8]\n",
        "    temp.opp = data.iloc[:,9]\n",
        "    temp.first_downs = data.iloc[:,17]\n",
        "    temp.TotYd = data.iloc[:,18]\n",
        "    temp.PassY = data.iloc[:,19]\n",
        "    temp.RushY = data.iloc[:,20]\n",
        "    temp.TO = data.iloc[:,21]\n",
        "    defense = defense.append(temp)\n",
        "    k=k+1\n",
        "\n",
        "# export the dataframe to a defense_db csv\n",
        "defense.to_csv('defense_db.csv')"
      ],
      "execution_count": null,
      "outputs": []
    }
  ]
}